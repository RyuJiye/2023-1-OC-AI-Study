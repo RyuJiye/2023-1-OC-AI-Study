{
 "cells": [
  {
   "cell_type": "markdown",
   "metadata": {},
   "source": [
    "# Pandas\n",
    "![pandas](./Pandas_logo.png)\n",
    "\n",
    "<br>\n",
    "\n",
    "**데이터 분석**을 하고 싶으신가요? 그럼 `pandas`를 한번 거쳐가시는 것이 좋습니다. 물론 굉장히 멋있어 보이는 `Machine Learning`, `AI` 등을 하고 싶으시겠지만, 두 다리 없이 뛸 수는 없잖아요? 일단 데이터를 다룰 수 있는 기본기를 익히고, 멋있어 보이는 것들을 해봅시다.  \n",
    "\n",
    "<br>\n",
    "  \n",
    "Pandas는 Python Data Analysis Library의 약자입니다. 이름만 보고 \"오잉 판다가 갑자기 왜 나오징?\" 하실 수 있지만 의외로 판다와 무관합니다 ㅎㅎ   \n",
    "  \n",
    "그럼 한번 pandas와 관련된 문제를 풀어보러 가시죠!\n",
    "\n",
    "<br>\n",
    "\n",
    "---\n",
    "\n",
    "**알림**\n",
    "- 본 컨텐츠는 강의 형식이 아닌, 스스로 공부하시는 분들을 위한 일종의 문제집 입니다.\n",
    "- 데이터라는 큰 바다에서 여러분이 쓸 데 없는 시간 낭비 없이 바로바로 핵심을 배우실 수 있도록 커리큘럼을 짜봤습니다.\n",
    "- 이 컨텐츠의 문제들만 해결한다고 실력이 오르지 않습니다. 본 컨텐츠의 목적은 문제를 해결하는 과정에서 발생하는 고민과 질문을 통한 실력 향상입니다. \n",
    "- 문제에서 절대 떠먹여주지 않습니다. 물고기를 잡아주는 것이 아닌, 물고기를 잡는 방법을 여러분이 이 컨텐츠를 통해 알아가셨으면 합니다."
   ]
  },
  {
   "cell_type": "markdown",
   "metadata": {},
   "source": [
    "\n",
    "<br>\n",
    "\n",
    "<br>\n",
    "\n",
    "# 1. Data Frame 다루기\n",
    "- Tabular Data를 다루는 가장 기본적인 툴이 바로 `pandas`입니다. Tabular Data는 흔히 여러분이 엑셀에서 많이 봐오셨던 데이터를 말하는데요, 쉽게 말해서 그냥 표라고 생각하셔도 무방합니다.  \n",
    "- 이번 Chapter에선 `pandas`의 가장 기본적인 형태인 `Data Frame`을 다루는 쉽지만 필수적인 method에 대해 알아보겠습니다."
   ]
  },
  {
   "cell_type": "markdown",
   "metadata": {},
   "source": [
    "❗ 잠깐 ❗  \n",
    "들어가기 전에, Data Frame에 대한 간단한 설명이 있는 [pandas document](https://pandas.pydata.org/docs/getting_started/intro_tutorials/01_table_oriented.html)를 한번 가볍게 쭉 읽고 오시는 것을 추천드려요 ㅎㅎ"
   ]
  },
  {
   "cell_type": "markdown",
   "metadata": {},
   "source": [
    "### 1-1 Data Frame 만들기"
   ]
  },
  {
   "cell_type": "markdown",
   "metadata": {},
   "source": [
    "**문제**  \n",
    "열(Column)의 이름이 A, B, C, D이고, 각 열마다 Random한 숫자가 10개씩 담겨져 있는 Data Frame을 생성해보세요.\n",
    "\n",
    "검색 힌트  : pandas Data Frame 생성, pandas data frame 만들기\n",
    "\n",
    "_예시_  \n",
    "![](./1-1answer.png)\n"
   ]
  },
  {
   "cell_type": "code",
   "execution_count": 2,
   "metadata": {},
   "outputs": [],
   "source": [
    "import pandas as pd\n",
    "import numpy as np\n",
    "\n",
    "df1 = pd.DataFrame(\n",
    "    {\n",
    "        \"A\": np.random.randn(10),\n",
    "        \"B\": np.random.randn(10),\n",
    "        \"C\": np.random.randn(10),\n",
    "        \"D\": np.random.randn(10)\n",
    "    }\n",
    ")"
   ]
  },
  {
   "cell_type": "markdown",
   "metadata": {},
   "source": [
    "### 1-2 Data Frame Indexing 1\n",
    "\n",
    "**문제**  \n",
    "1-1에서 생성한 DataFrame에서 위에서부터 5개의 행을 출력하는 코드를 작성해보세요  \n",
    "  \n",
    "검색 힌트 : pandas indexing, pandas print top5 rows  \n",
    "  \n",
    "_예시_  \n",
    "![](./1-2answer.png)"
   ]
  },
  {
   "cell_type": "code",
   "execution_count": 3,
   "metadata": {},
   "outputs": [
    {
     "name": "stdout",
     "output_type": "stream",
     "text": [
      "          A         B         C         D\n",
      "0 -0.373219  0.172783  1.411468 -0.191473\n",
      "1 -0.026404 -1.119474 -1.471817 -1.845682\n",
      "2  0.877498 -0.012344 -0.165289 -1.867834\n",
      "3 -0.247451  0.363504  0.356897  0.691472\n",
      "4 -0.586845  0.124294  1.023525 -1.920236\n"
     ]
    }
   ],
   "source": [
    "print(df1.head(5))"
   ]
  },
  {
   "cell_type": "markdown",
   "metadata": {},
   "source": [
    "### 1-3 Data Frame Indexing 2\n",
    "\n",
    "**문제**  \n",
    "1-1에서 생성한 DataFrame에서 1번째, 2번째 열만 추출하는 코드를 작성해보세요  \n",
    "  \n",
    "검색 힌트 : pandas indexing, pandas iloc, pandas loc  \n",
    "  \n",
    "_예시_  \n",
    "![](./1-3answer.png)"
   ]
  },
  {
   "cell_type": "code",
   "execution_count": 4,
   "metadata": {},
   "outputs": [
    {
     "name": "stdout",
     "output_type": "stream",
     "text": [
      "          A         B\n",
      "0 -0.373219  0.172783\n",
      "1 -0.026404 -1.119474\n",
      "2  0.877498 -0.012344\n",
      "3 -0.247451  0.363504\n",
      "4 -0.586845  0.124294\n",
      "5  0.570009 -0.076743\n",
      "6 -0.349253 -1.130694\n",
      "7  0.351534  2.330204\n",
      "8 -0.500995 -2.576687\n",
      "9  1.083473  1.970882\n"
     ]
    }
   ],
   "source": [
    "print(df1.iloc[:,:2])"
   ]
  },
  {
   "cell_type": "markdown",
   "metadata": {},
   "source": [
    "### 1-4 Data Frame Indexing 3\n",
    "\n",
    "**문제**  \n",
    "1-1에서 생성한 DataFrame에서 \"A\"열과 \"D\"열만 추출하는 코드를 작성해보세요  \n",
    "  \n",
    "검색 힌트 : pandas indexing, pandas iloc, pandas loc  \n",
    "  \n",
    "_예시_  \n",
    "![](./1-4answer.png)"
   ]
  },
  {
   "cell_type": "code",
   "execution_count": 5,
   "metadata": {},
   "outputs": [
    {
     "name": "stdout",
     "output_type": "stream",
     "text": [
      "          A         D\n",
      "0 -0.373219 -0.191473\n",
      "1 -0.026404 -1.845682\n",
      "2  0.877498 -1.867834\n",
      "3 -0.247451  0.691472\n",
      "4 -0.586845 -1.920236\n",
      "5  0.570009  0.911951\n",
      "6 -0.349253  0.479796\n",
      "7  0.351534 -1.322833\n",
      "8 -0.500995 -0.727059\n",
      "9  1.083473  0.056814\n"
     ]
    }
   ],
   "source": [
    "print(df1.loc[:,[\"A\",\"D\"]])"
   ]
  },
  {
   "cell_type": "markdown",
   "metadata": {},
   "source": [
    "### 1-5 Data Frame columns, values, index\n",
    "\n",
    "**문제**  \n",
    "1-1에서 생성한 DataFrame의 Column들과 값들, index, shape을 출력하는 코드를 작성하세요 \n",
    "  \n",
    "검색 힌트 : pandas columns, pandas values, pandas index\n",
    "  \n",
    "_예시_  \n",
    "![](./1-5answer.png)"
   ]
  },
  {
   "cell_type": "code",
   "execution_count": 6,
   "metadata": {},
   "outputs": [
    {
     "name": "stdout",
     "output_type": "stream",
     "text": [
      "Index(['A', 'B', 'C', 'D'], dtype='object')\n",
      "[[-0.37321858  0.17278332  1.41146846 -0.19147294]\n",
      " [-0.02640361 -1.11947376 -1.47181668 -1.84568232]\n",
      " [ 0.87749803 -0.01234414 -0.16528916 -1.86783408]\n",
      " [-0.24745125  0.36350406  0.35689667  0.69147198]\n",
      " [-0.58684526  0.12429403  1.02352484 -1.92023606]\n",
      " [ 0.57000939 -0.07674285 -1.39335795  0.91195113]\n",
      " [-0.34925295 -1.13069436 -0.82579063  0.47979579]\n",
      " [ 0.35153435  2.33020444 -0.21719198 -1.32283319]\n",
      " [-0.50099511 -2.57668668  0.56466366 -0.72705912]\n",
      " [ 1.08347337  1.97088196  1.66317625  0.05681402]]\n",
      "RangeIndex(start=0, stop=10, step=1)\n",
      "(10, 4)\n"
     ]
    }
   ],
   "source": [
    "print(df1.columns)\n",
    "print(df1.values)\n",
    "print(df1.index)\n",
    "print(df1.shape)"
   ]
  },
  {
   "cell_type": "markdown",
   "metadata": {},
   "source": [
    "### 1-6 Data Frame Informations\n",
    "\n",
    "**문제**  \n",
    "1-1에서 생성한 DataFrame의 column별 정보와 통계적 정보를 출력하는 코드를 작성하세요 \n",
    "  \n",
    "검색 힌트 : pandas get data frame information, pandas get statistic information\n",
    "  \n",
    "_예시_  \n",
    "![](./1-6answer.png)"
   ]
  },
  {
   "cell_type": "code",
   "execution_count": 7,
   "metadata": {},
   "outputs": [
    {
     "name": "stdout",
     "output_type": "stream",
     "text": [
      "<class 'pandas.core.frame.DataFrame'>\n",
      "RangeIndex: 10 entries, 0 to 9\n",
      "Data columns (total 4 columns):\n",
      " #   Column  Non-Null Count  Dtype  \n",
      "---  ------  --------------  -----  \n",
      " 0   A       10 non-null     float64\n",
      " 1   B       10 non-null     float64\n",
      " 2   C       10 non-null     float64\n",
      " 3   D       10 non-null     float64\n",
      "dtypes: float64(4)\n",
      "memory usage: 448.0 bytes\n",
      "               A          B          C          D\n",
      "count  10.000000  10.000000  10.000000  10.000000\n",
      "mean    0.079835   0.004573   0.094628  -0.573508\n",
      "std     0.600671   1.440236   1.106887   1.113150\n",
      "min    -0.586845  -2.576687  -1.471817  -1.920236\n",
      "25%    -0.367227  -0.858791  -0.673641  -1.714970\n",
      "50%    -0.136927   0.055975   0.095804  -0.459266\n",
      "75%     0.515391   0.315824   0.908810   0.374050\n",
      "max     1.083473   2.330204   1.663176   0.911951\n"
     ]
    }
   ],
   "source": [
    "df1.info()\n",
    "print(df1.describe())"
   ]
  },
  {
   "cell_type": "markdown",
   "metadata": {},
   "source": [
    "### 1-7 Data Frame Sorting\n",
    "\n",
    "**문제**  \n",
    "1-1에서 생성한 DataFrame을 \"A\" Column을 기준으로 내림차순으로 정렬한 뒤, Index를 재정렬하는 코드를 작성하세요.  \n",
    "(단, Index 재정렬 후 , 원래의 index는 삭제해주세요.)\n",
    "  \n",
    "검색 힌트 : pandas sort values, pandas sort values descending, pandas reset index\n",
    "  \n",
    "_예시_  \n",
    "![](./1-7answer.png)"
   ]
  },
  {
   "cell_type": "code",
   "execution_count": 8,
   "metadata": {},
   "outputs": [
    {
     "name": "stdout",
     "output_type": "stream",
     "text": [
      "          A         B         C         D\n",
      "0  1.083473  1.970882  1.663176  0.056814\n",
      "1  0.877498 -0.012344 -0.165289 -1.867834\n",
      "2  0.570009 -0.076743 -1.393358  0.911951\n",
      "3  0.351534  2.330204 -0.217192 -1.322833\n",
      "4 -0.026404 -1.119474 -1.471817 -1.845682\n",
      "5 -0.247451  0.363504  0.356897  0.691472\n",
      "6 -0.349253 -1.130694 -0.825791  0.479796\n",
      "7 -0.373219  0.172783  1.411468 -0.191473\n",
      "8 -0.500995 -2.576687  0.564664 -0.727059\n",
      "9 -0.586845  0.124294  1.023525 -1.920236\n"
     ]
    }
   ],
   "source": [
    "df2 = df1.sort_values(by = \"A\", ascending = False)\n",
    "df2 = df2.reset_index(drop = True)\n",
    "print(df2)"
   ]
  },
  {
   "cell_type": "markdown",
   "metadata": {},
   "source": [
    "### 1-8 Data Frame Advanced Indexing 1\n",
    "\n",
    "**문제**  \n",
    "아래와 같은 Data Frame을 만들고, 주 언어가 파이썬인 사람들만 조회하는 코드를 작성해보세요.\n",
    "  \n",
    "검색 힌트 : pandas indexing, pandas query, pandas get specific values\n",
    "  \n",
    "<br>\n",
    "\n",
    "Data Frame 예시  \n",
    "![](./1-8df.png)\n",
    "\n",
    "_예시_  \n",
    "![](./1-8answer.png)\n"
   ]
  },
  {
   "cell_type": "code",
   "execution_count": 9,
   "metadata": {},
   "outputs": [
    {
     "name": "stdout",
     "output_type": "stream",
     "text": [
      "    이름  학과   언어      직무\n",
      "0  피카츄  경제  파이썬  AI엔지니어\n",
      "3  꼬부기  컴공  파이썬  AI엔지니어\n",
      "6  피죤투  컴공  파이썬  AI엔지니어\n"
     ]
    }
   ],
   "source": [
    "df3 = pd.DataFrame(\n",
    "    {\n",
    "        \"이름\": [\"피카츄\",\"라이츄\", \"파이리\", \"꼬부기\", \"버터풀\",\"야도란\",\"피죤투\",\"또가스\"],\n",
    "        \"학과\": [\"경제\",\"경영\",\"컴공\",\"컴공\",\"경제\",\"전전\",\"컴공\",\"기계\"],\n",
    "        \"언어\": [\"파이썬\",\"C\",\"C++\",\"파이썬\",\"자바\",\"엄\",\"파이썬\",\"자바\"],\n",
    "        \"직무\": [\"AI엔지니어\", \"프론트\",\"백엔드\",\"AI엔지니어\",\"백엔드\",\"프론트\",\"AI엔지니어\",\"PM\"]\n",
    "    }\n",
    ")\n",
    "\n",
    "print(df3.query(\"언어.str.contains ('파이썬')\"))"
   ]
  },
  {
   "cell_type": "markdown",
   "metadata": {},
   "source": [
    "### 1-9 Data Frame Advanced Indexing 2\n",
    "\n",
    "**문제**  \n",
    "1-8에서 만든 Data Frame에서 학과가 컴공이고, 주 언어가 파이썬, 직무는 AI 엔지니어인 사람들만 조회하는 코드를 작성해보세요.\n",
    "  \n",
    "검색 힌트 : pandas indexing, pandas query, pandas get specific values\n",
    "\n",
    "_예시_  \n",
    "![](./1-9answer.png)"
   ]
  },
  {
   "cell_type": "code",
   "execution_count": 10,
   "metadata": {},
   "outputs": [
    {
     "name": "stdout",
     "output_type": "stream",
     "text": [
      "    이름  학과   언어      직무\n",
      "3  꼬부기  컴공  파이썬  AI엔지니어\n",
      "6  피죤투  컴공  파이썬  AI엔지니어\n"
     ]
    }
   ],
   "source": [
    "print(df3.query(\" 학과 == '컴공' & 언어 == '파이썬' & 직무 == 'AI엔지니어'\"))"
   ]
  },
  {
   "cell_type": "markdown",
   "metadata": {},
   "source": [
    "### 1-10 Data Frame Concat\n",
    "\n",
    "**문제**  \n",
    "1-1에서 만든 Data Frame과 1-8에서 만든 Data Frame을 위아래로 합치는 코드와, 좌우로 합치는 코드를 작성해주세요. 각 작업을 수행한 후엔 Index를 다시 세팅해주세요!\n",
    "  \n",
    "검색 힌트 : pandas concat Data Frame\n",
    "\n",
    "_예시_  \n",
    "위아래로 합치는 경우  \n",
    "![](./1-10answer1.png)  \n",
    "좌우로 합치는 경우  \n",
    "![](./1-10answer2.png)  "
   ]
  },
  {
   "cell_type": "code",
   "execution_count": 11,
   "metadata": {},
   "outputs": [
    {
     "name": "stdout",
     "output_type": "stream",
     "text": [
      "           A         B         C         D   이름   학과   언어      직무\n",
      "0  -0.373219  0.172783  1.411468 -0.191473  NaN  NaN  NaN     NaN\n",
      "1  -0.026404 -1.119474 -1.471817 -1.845682  NaN  NaN  NaN     NaN\n",
      "2   0.877498 -0.012344 -0.165289 -1.867834  NaN  NaN  NaN     NaN\n",
      "3  -0.247451  0.363504  0.356897  0.691472  NaN  NaN  NaN     NaN\n",
      "4  -0.586845  0.124294  1.023525 -1.920236  NaN  NaN  NaN     NaN\n",
      "5   0.570009 -0.076743 -1.393358  0.911951  NaN  NaN  NaN     NaN\n",
      "6  -0.349253 -1.130694 -0.825791  0.479796  NaN  NaN  NaN     NaN\n",
      "7   0.351534  2.330204 -0.217192 -1.322833  NaN  NaN  NaN     NaN\n",
      "8  -0.500995 -2.576687  0.564664 -0.727059  NaN  NaN  NaN     NaN\n",
      "9   1.083473  1.970882  1.663176  0.056814  NaN  NaN  NaN     NaN\n",
      "10       NaN       NaN       NaN       NaN  피카츄   경제  파이썬  AI엔지니어\n",
      "11       NaN       NaN       NaN       NaN  라이츄   경영    C     프론트\n",
      "12       NaN       NaN       NaN       NaN  파이리   컴공  C++     백엔드\n",
      "13       NaN       NaN       NaN       NaN  꼬부기   컴공  파이썬  AI엔지니어\n",
      "14       NaN       NaN       NaN       NaN  버터풀   경제   자바     백엔드\n",
      "15       NaN       NaN       NaN       NaN  야도란   전전    엄     프론트\n",
      "16       NaN       NaN       NaN       NaN  피죤투   컴공  파이썬  AI엔지니어\n",
      "17       NaN       NaN       NaN       NaN  또가스   기계   자바      PM\n",
      "          A         B         C         D   이름   학과   언어      직무\n",
      "0 -0.373219  0.172783  1.411468 -0.191473  피카츄   경제  파이썬  AI엔지니어\n",
      "1 -0.026404 -1.119474 -1.471817 -1.845682  라이츄   경영    C     프론트\n",
      "2  0.877498 -0.012344 -0.165289 -1.867834  파이리   컴공  C++     백엔드\n",
      "3 -0.247451  0.363504  0.356897  0.691472  꼬부기   컴공  파이썬  AI엔지니어\n",
      "4 -0.586845  0.124294  1.023525 -1.920236  버터풀   경제   자바     백엔드\n",
      "5  0.570009 -0.076743 -1.393358  0.911951  야도란   전전    엄     프론트\n",
      "6 -0.349253 -1.130694 -0.825791  0.479796  피죤투   컴공  파이썬  AI엔지니어\n",
      "7  0.351534  2.330204 -0.217192 -1.322833  또가스   기계   자바      PM\n",
      "8 -0.500995 -2.576687  0.564664 -0.727059  NaN  NaN  NaN     NaN\n",
      "9  1.083473  1.970882  1.663176  0.056814  NaN  NaN  NaN     NaN\n"
     ]
    }
   ],
   "source": [
    "df4 = pd.concat([df1,df3],ignore_index=True)\n",
    "print(df4)\n",
    "df5 = pd.concat([df1,df3], axis = 1)\n",
    "print(df5)"
   ]
  },
  {
   "cell_type": "markdown",
   "metadata": {},
   "source": [
    "### 1-11 Data Frame Concat 2\n",
    "\n",
    "**문제**  \n",
    "1-10에서 만든 Data Frame가 뭔가 이상합니다. NaN값들이 막 섞여있고 상당히 지저분합니다. 왜 이러는 걸까요? 이유를 한번 생각해서 적어보세요!  \n",
    "  \n",
    "이유를 적어본 뒤에, 1-8에서 만든 Data Frame의 이름을 \"A\", \"B\", \"C\", \"D\"로 바꾼 다음 다시 시도해보세요.\n",
    "  \n",
    "검색 힌트 : pandas concat Data Frame, pandas column name change\n"
   ]
  },
  {
   "cell_type": "code",
   "execution_count": 12,
   "metadata": {},
   "outputs": [
    {
     "name": "stdout",
     "output_type": "stream",
     "text": [
      "           A         B         C         D\n",
      "0  -0.373219  0.172783  1.411468 -0.191473\n",
      "1  -0.026404 -1.119474 -1.471817 -1.845682\n",
      "2   0.877498 -0.012344 -0.165289 -1.867834\n",
      "3  -0.247451  0.363504  0.356897  0.691472\n",
      "4  -0.586845  0.124294  1.023525 -1.920236\n",
      "5   0.570009 -0.076743 -1.393358  0.911951\n",
      "6  -0.349253 -1.130694 -0.825791  0.479796\n",
      "7   0.351534  2.330204 -0.217192 -1.322833\n",
      "8  -0.500995 -2.576687  0.564664 -0.727059\n",
      "9   1.083473  1.970882  1.663176  0.056814\n",
      "10       피카츄        경제       파이썬    AI엔지니어\n",
      "11       라이츄        경영         C       프론트\n",
      "12       파이리        컴공       C++       백엔드\n",
      "13       꼬부기        컴공       파이썬    AI엔지니어\n",
      "14       버터풀        경제        자바       백엔드\n",
      "15       야도란        전전         엄       프론트\n",
      "16       피죤투        컴공       파이썬    AI엔지니어\n",
      "17       또가스        기계        자바        PM\n",
      "          A         B         C         D    A    B    C       D\n",
      "0 -0.373219  0.172783  1.411468 -0.191473  피카츄   경제  파이썬  AI엔지니어\n",
      "1 -0.026404 -1.119474 -1.471817 -1.845682  라이츄   경영    C     프론트\n",
      "2  0.877498 -0.012344 -0.165289 -1.867834  파이리   컴공  C++     백엔드\n",
      "3 -0.247451  0.363504  0.356897  0.691472  꼬부기   컴공  파이썬  AI엔지니어\n",
      "4 -0.586845  0.124294  1.023525 -1.920236  버터풀   경제   자바     백엔드\n",
      "5  0.570009 -0.076743 -1.393358  0.911951  야도란   전전    엄     프론트\n",
      "6 -0.349253 -1.130694 -0.825791  0.479796  피죤투   컴공  파이썬  AI엔지니어\n",
      "7  0.351534  2.330204 -0.217192 -1.322833  또가스   기계   자바      PM\n",
      "8 -0.500995 -2.576687  0.564664 -0.727059  NaN  NaN  NaN     NaN\n",
      "9  1.083473  1.970882  1.663176  0.056814  NaN  NaN  NaN     NaN\n"
     ]
    }
   ],
   "source": [
    "'''두 dataframe의 column이 다르기 때문이다'''\n",
    "\n",
    "df3.columns = [\"A\",\"B\",\"C\",\"D\"]\n",
    "df4 = pd.concat([df1,df3],ignore_index=True)\n",
    "print(df4)\n",
    "df5 = pd.concat([df1,df3], axis = 1)\n",
    "print(df5)"
   ]
  },
  {
   "cell_type": "markdown",
   "metadata": {},
   "source": [
    "# 2. 데이터 불러오기\n",
    "  \n",
    "- 여기까지 해내신 분들! 아주 대단하십니다. 여기까지 푸신 것만 해도, 데이터를 다뤄볼 준비가 됐다고 할 수 있습니다 ㅎㅎ 뭐든 기본기가 지루하고 귀찮다고는 하지만 제일 중요하니까요..! \n",
    "- 이제는 튜토리얼 데이터를 불러와서, 통계량을 확인해보고, 우리들이 만든 함수도 적용해볼 겁니다. 어떻게 하는지 볼까요?  \n"
   ]
  },
  {
   "cell_type": "markdown",
   "metadata": {},
   "source": [
    "❗잠깐❗  \n",
    "데이터를 다운 받아야겠죠? \n",
    "[이곳](https://www.kaggle.com/code/parulpandey/penguin-dataset-the-new-iris/data)에서 데이터를 다운 받은뒤, 압축을 해제하고, `penguins_size.csv`파일을 **코드 파일이 존재하는 폴더에 저장해주세요**"
   ]
  },
  {
   "cell_type": "markdown",
   "metadata": {},
   "source": [
    "### 2-1 Read CSV\n",
    "\n",
    "**문제**  \n",
    "방금 다운받은 데이터를 Data Frame으로 읽는 코드를 작성해주세요.\n",
    "  \n",
    "검색 힌트 : pandas read data, pandas read csv file\n",
    "\n",
    "_예시_  \n",
    "![](./2-1answer.png)  \n",
    "  "
   ]
  },
  {
   "cell_type": "code",
   "execution_count": 13,
   "metadata": {},
   "outputs": [],
   "source": [
    "peng = pd.read_csv(\"penguins_size.csv\")"
   ]
  },
  {
   "cell_type": "markdown",
   "metadata": {},
   "source": [
    "### 2-2 Data Frame Indexing 복습!\n",
    "\n",
    "**문제**  \n",
    "읽어온 Data Frame에서, `species`가 `Gentoo`인 데이터만 조회하고, index를 새로 재배치 하는 코드를 작성해주세요. \n",
    "  \n",
    "검색 힌트 : pandas indexing, pandas query\n",
    "\n",
    "_예시_  \n",
    "![](./2-2answer.png)  \n",
    "  "
   ]
  },
  {
   "cell_type": "code",
   "execution_count": 17,
   "metadata": {},
   "outputs": [
    {
     "name": "stdout",
     "output_type": "stream",
     "text": [
      "    species  island  culmen_length_mm  culmen_depth_mm  flipper_length_mm  \\\n",
      "0    Gentoo  Biscoe              46.1             13.2              211.0   \n",
      "1    Gentoo  Biscoe              50.0             16.3              230.0   \n",
      "2    Gentoo  Biscoe              48.7             14.1              210.0   \n",
      "3    Gentoo  Biscoe              50.0             15.2              218.0   \n",
      "4    Gentoo  Biscoe              47.6             14.5              215.0   \n",
      "..      ...     ...               ...              ...                ...   \n",
      "119  Gentoo  Biscoe               NaN              NaN                NaN   \n",
      "120  Gentoo  Biscoe              46.8             14.3              215.0   \n",
      "121  Gentoo  Biscoe              50.4             15.7              222.0   \n",
      "122  Gentoo  Biscoe              45.2             14.8              212.0   \n",
      "123  Gentoo  Biscoe              49.9             16.1              213.0   \n",
      "\n",
      "     body_mass_g     sex  \n",
      "0         4500.0  FEMALE  \n",
      "1         5700.0    MALE  \n",
      "2         4450.0  FEMALE  \n",
      "3         5700.0    MALE  \n",
      "4         5400.0    MALE  \n",
      "..           ...     ...  \n",
      "119          NaN     NaN  \n",
      "120       4850.0  FEMALE  \n",
      "121       5750.0    MALE  \n",
      "122       5200.0  FEMALE  \n",
      "123       5400.0    MALE  \n",
      "\n",
      "[124 rows x 7 columns]\n"
     ]
    }
   ],
   "source": [
    "peng_s = peng.query(\"species == 'Gentoo'\")\n",
    "peng_s = peng_s.reset_index(drop = True)\n",
    "print(peng_s)"
   ]
  },
  {
   "cell_type": "markdown",
   "metadata": {},
   "source": [
    "### 2-3 Groupby\n",
    "\n",
    "**문제**  \n",
    "2-1에서 읽어온 Data Frame에서, `species`별 평균값 데이터를 조회해보세요.  \n",
    "`species`별 평균값의 조회가 끝났다면, `island`별 평균, 최대, 최소, 중앙값 데이터도 조회해보세요!  \n",
    "  \n",
    "검색 힌트 : pandas groupby, pandas aggregate function\n",
    "\n",
    "_예시_  \n",
    "![](./2-3answer.png)  \n",
    "![](./2-3answer2.png)\n",
    "  "
   ]
  },
  {
   "cell_type": "code",
   "execution_count": 65,
   "metadata": {},
   "outputs": [
    {
     "name": "stdout",
     "output_type": "stream",
     "text": [
      "           culmen_length_mm  culmen_depth_mm  flipper_length_mm  body_mass_g\n",
      "species                                                                     \n",
      "Adelie            38.791391        18.346358         189.953642  3700.662252\n",
      "Chinstrap         48.833824        18.420588         195.823529  3733.088235\n",
      "Gentoo            47.504878        14.982114         217.186992  5076.016260\n",
      "          culmen_length_mm                    culmen_depth_mm              \\\n",
      "                      mean   max   min median            mean   max   min   \n",
      "island                                                                      \n",
      "Biscoe           45.257485  59.6  34.5  45.80       15.874850  21.1  13.1   \n",
      "Dream            44.167742  58.0  32.1  44.65       18.344355  21.2  15.5   \n",
      "Torgersen        38.950980  46.0  33.5  38.90       18.429412  21.5  15.9   \n",
      "\n",
      "                 flipper_length_mm                       body_mass_g          \\\n",
      "          median              mean    max    min median         mean     max   \n",
      "island                                                                         \n",
      "Biscoe      15.5        209.706587  231.0  172.0  214.0  4716.017964  6300.0   \n",
      "Dream       18.4        193.072581  212.0  178.0  193.0  3712.903226  4800.0   \n",
      "Torgersen   18.4        191.196078  210.0  176.0  191.0  3706.372549  4700.0   \n",
      "\n",
      "                           \n",
      "              min  median  \n",
      "island                     \n",
      "Biscoe     2850.0  4775.0  \n",
      "Dream      2700.0  3687.5  \n",
      "Torgersen  2900.0  3700.0  \n"
     ]
    },
    {
     "name": "stderr",
     "output_type": "stream",
     "text": [
      "C:\\Users\\Public\\Documents\\ESTsoft\\CreatorTemp\\ipykernel_19240\\1387909342.py:1: FutureWarning: The default value of numeric_only in DataFrameGroupBy.mean is deprecated. In a future version, numeric_only will default to False. Either specify numeric_only or select only columns which should be valid for the function.\n",
      "  peng_sm = peng.groupby(['species'], as_index = True).mean()\n"
     ]
    }
   ],
   "source": [
    "peng_sm = peng.groupby(['species'], as_index = True).mean()\n",
    "print(peng_sm)\n",
    "\n",
    "peng_islagg = peng.groupby('island')[['culmen_length_mm' , 'culmen_depth_mm' , 'flipper_length_mm' , 'body_mass_g']].agg(['mean','max','min','median'])\n",
    "print(peng_islagg)"
   ]
  },
  {
   "cell_type": "markdown",
   "metadata": {},
   "source": [
    "### 2-4 apply lambda\n",
    "\n",
    "**문제**  \n",
    "들어온 input에 대해서 제곱된 값을 return 해주는 함수를 작성하세요.  \n",
    "그런 다음 2-1에서 읽어온 Data Frame에서, `body_mass_g` Column의 값을 제곱한 새로운 Column을 만들어보세요\n",
    "\n",
    "검색 힌트 : pandas new column, pandas apply lambda\n",
    "\n",
    "_예시_  \n",
    "![](./2-4answer.png)  \n",
    "  "
   ]
  },
  {
   "cell_type": "code",
   "execution_count": 66,
   "metadata": {},
   "outputs": [
    {
     "name": "stdout",
     "output_type": "stream",
     "text": [
      "    species     island  culmen_length_mm  culmen_depth_mm  flipper_length_mm  \\\n",
      "0    Adelie  Torgersen              39.1             18.7              181.0   \n",
      "1    Adelie  Torgersen              39.5             17.4              186.0   \n",
      "2    Adelie  Torgersen              40.3             18.0              195.0   \n",
      "3    Adelie  Torgersen               NaN              NaN                NaN   \n",
      "4    Adelie  Torgersen              36.7             19.3              193.0   \n",
      "..      ...        ...               ...              ...                ...   \n",
      "339  Gentoo     Biscoe               NaN              NaN                NaN   \n",
      "340  Gentoo     Biscoe              46.8             14.3              215.0   \n",
      "341  Gentoo     Biscoe              50.4             15.7              222.0   \n",
      "342  Gentoo     Biscoe              45.2             14.8              212.0   \n",
      "343  Gentoo     Biscoe              49.9             16.1              213.0   \n",
      "\n",
      "     body_mass_g     sex  new_column  \n",
      "0         3750.0    MALE  14062500.0  \n",
      "1         3800.0  FEMALE  14440000.0  \n",
      "2         3250.0  FEMALE  10562500.0  \n",
      "3            NaN     NaN         NaN  \n",
      "4         3450.0  FEMALE  11902500.0  \n",
      "..           ...     ...         ...  \n",
      "339          NaN     NaN         NaN  \n",
      "340       4850.0  FEMALE  23522500.0  \n",
      "341       5750.0    MALE  33062500.0  \n",
      "342       5200.0  FEMALE  27040000.0  \n",
      "343       5400.0    MALE  29160000.0  \n",
      "\n",
      "[344 rows x 8 columns]\n"
     ]
    }
   ],
   "source": [
    "def square(x):\n",
    "    x = x**2\n",
    "    return x\n",
    "\n",
    "peng2 = peng.copy()\n",
    "peng2['new_column'] =  peng2['body_mass_g'].apply(square)\n",
    "print(peng2)"
   ]
  },
  {
   "cell_type": "markdown",
   "metadata": {},
   "source": [
    "### 2-5 drop nan values\n",
    "\n",
    "**문제**  \n",
    "2-1에서 읽어온 Data Frame에서 칼럼 별로 값이 없는 데이터의 수를 구하는 코드를 작성해보세요.  \n",
    "그리고 그런 공백값들을 제거한 Data Frame을 출력하는 코드를 작성해주세요.\n",
    "\n",
    "검색 힌트 : pandas get number of nan, pandas remove null \n",
    "\n",
    "_예시_  \n",
    "column별 공백값의 수  \n",
    "![](./2-5answer1.png)   \n",
    "제거 후 Data Frame  \n",
    "![](./2-5answer2.png)   "
   ]
  },
  {
   "cell_type": "code",
   "execution_count": 67,
   "metadata": {},
   "outputs": [
    {
     "name": "stdout",
     "output_type": "stream",
     "text": [
      "species               0\n",
      "island                0\n",
      "culmen_length_mm      2\n",
      "culmen_depth_mm       2\n",
      "flipper_length_mm     2\n",
      "body_mass_g           2\n",
      "sex                  10\n",
      "dtype: int64\n",
      "    species     island  culmen_length_mm  culmen_depth_mm  flipper_length_mm  \\\n",
      "0    Adelie  Torgersen              39.1             18.7              181.0   \n",
      "1    Adelie  Torgersen              39.5             17.4              186.0   \n",
      "2    Adelie  Torgersen              40.3             18.0              195.0   \n",
      "4    Adelie  Torgersen              36.7             19.3              193.0   \n",
      "5    Adelie  Torgersen              39.3             20.6              190.0   \n",
      "..      ...        ...               ...              ...                ...   \n",
      "338  Gentoo     Biscoe              47.2             13.7              214.0   \n",
      "340  Gentoo     Biscoe              46.8             14.3              215.0   \n",
      "341  Gentoo     Biscoe              50.4             15.7              222.0   \n",
      "342  Gentoo     Biscoe              45.2             14.8              212.0   \n",
      "343  Gentoo     Biscoe              49.9             16.1              213.0   \n",
      "\n",
      "     body_mass_g     sex  \n",
      "0         3750.0    MALE  \n",
      "1         3800.0  FEMALE  \n",
      "2         3250.0  FEMALE  \n",
      "4         3450.0  FEMALE  \n",
      "5         3650.0    MALE  \n",
      "..           ...     ...  \n",
      "338       4925.0  FEMALE  \n",
      "340       4850.0  FEMALE  \n",
      "341       5750.0    MALE  \n",
      "342       5200.0  FEMALE  \n",
      "343       5400.0    MALE  \n",
      "\n",
      "[334 rows x 7 columns]\n"
     ]
    }
   ],
   "source": [
    "print(peng.isna().sum())\n",
    "print(peng.dropna())"
   ]
  },
  {
   "cell_type": "markdown",
   "metadata": {},
   "source": [
    "### 2-6 remove column\n",
    "\n",
    "**문제**  \n",
    "2-1에서 읽어온 Data Frame에서 `island` Column을 제거하는 코드를 작성해주세요.  \n",
    "  \n",
    "검색 힌트: pandas remove columns\n",
    "\n",
    "_예시_  \n",
    "![](./2-6answer.png)  \n",
    "  "
   ]
  },
  {
   "cell_type": "code",
   "execution_count": 68,
   "metadata": {},
   "outputs": [
    {
     "name": "stdout",
     "output_type": "stream",
     "text": [
      "    species  culmen_length_mm  culmen_depth_mm  flipper_length_mm  \\\n",
      "0    Adelie              39.1             18.7              181.0   \n",
      "1    Adelie              39.5             17.4              186.0   \n",
      "2    Adelie              40.3             18.0              195.0   \n",
      "3    Adelie               NaN              NaN                NaN   \n",
      "4    Adelie              36.7             19.3              193.0   \n",
      "..      ...               ...              ...                ...   \n",
      "339  Gentoo               NaN              NaN                NaN   \n",
      "340  Gentoo              46.8             14.3              215.0   \n",
      "341  Gentoo              50.4             15.7              222.0   \n",
      "342  Gentoo              45.2             14.8              212.0   \n",
      "343  Gentoo              49.9             16.1              213.0   \n",
      "\n",
      "     body_mass_g     sex  \n",
      "0         3750.0    MALE  \n",
      "1         3800.0  FEMALE  \n",
      "2         3250.0  FEMALE  \n",
      "3            NaN     NaN  \n",
      "4         3450.0  FEMALE  \n",
      "..           ...     ...  \n",
      "339          NaN     NaN  \n",
      "340       4850.0  FEMALE  \n",
      "341       5750.0    MALE  \n",
      "342       5200.0  FEMALE  \n",
      "343       5400.0    MALE  \n",
      "\n",
      "[344 rows x 6 columns]\n"
     ]
    }
   ],
   "source": [
    "print(peng.drop(columns = 'island'))"
   ]
  },
  {
   "cell_type": "markdown",
   "metadata": {},
   "source": [
    "# 1주차 종료\n",
    "- 여기까지 완료하신 분들 너무 고생많았습니다 ㅎㅎ 우리가 위의 문제들을 푸는 과정에서 배우고 익혔던 메서드들은 앞으로 Tabular Data를 다룰 때 거의 무조건적으로 사용될 녀석들로 꼭 반복학습 하셔서 익혀두시는 걸 추천드려요.\n",
    "- 더 배우고 싶으신 분들은 아래의 문제도 한번 풀어보시는 걸 추천드려요 ㅎㅎ\n",
    "- 다음엔 시각화에 대한 문제를 풀어볼 겁니다. 우리가 읽어온 데이터를 가공한 결과를 그래프로 잘 표현하는 것만으로도 유의미한 정보를 얻어낼 수 있습니다. 백문이 불허일견인 만큼, 주저리주저리 얘기하는 것보다는 잘 된 시각화 그림 하나 보여주는 게 더 효과가 좋을 때가 많습니다. \n",
    "- 그럼 다음 주차에 봐요!\n",
    "  \n",
    "<br>\n",
    "\n",
    "👀**추가 문제**👀  \n",
    "아래의 두 Data Frame을 가지고, 아래 결과와 같은 Data Frame으로 생성해보세요! \n",
    "\n",
    "<br>\n",
    "\n",
    "**input**  \n",
    "![](./add_input.png)  \n",
    "  \n",
    "**output**  \n",
    "![](./add_output.png)\n"
   ]
  },
  {
   "cell_type": "code",
   "execution_count": 14,
   "metadata": {},
   "outputs": [
    {
     "name": "stdout",
     "output_type": "stream",
     "text": [
      "hello\n"
     ]
    }
   ],
   "source": [
    "print('hello')"
   ]
  }
 ],
 "metadata": {
  "kernelspec": {
   "display_name": "Python 3.9.13 64-bit (microsoft store)",
   "language": "python",
   "name": "python3"
  },
  "language_info": {
   "codemirror_mode": {
    "name": "ipython",
    "version": 3
   },
   "file_extension": ".py",
   "mimetype": "text/x-python",
   "name": "python",
   "nbconvert_exporter": "python",
   "pygments_lexer": "ipython3",
   "version": "3.9.5"
  },
  "orig_nbformat": 4,
  "vscode": {
   "interpreter": {
    "hash": "53a512125719f521366ed91a9e479611e31fcc6e9d09d02416dcc2155feac63f"
   }
  }
 },
 "nbformat": 4,
 "nbformat_minor": 2
}
